{
 "cells": [
  {
   "cell_type": "markdown",
   "id": "3fc94d35-0d7b-4a6b-af86-97ea072553c1",
   "metadata": {},
   "source": [
    "Завдання 1. Завантажити Diabetes Dataset \n",
    "\n",
    "Цей датасет містить 10 фізіологічних змінних (вік, стать, індекс маси тіла, артеріальний тиск та інші) та одну цільову змінну, яка представляє прогрес діабету через рік після вихідних даних. \n",
    "\n",
    "Провести попередній аналіз даних:"
   ]
  },
  {
   "cell_type": "code",
   "execution_count": 13,
   "id": "f00513fb-3145-45c0-b00c-5c77ffed45f5",
   "metadata": {},
   "outputs": [],
   "source": [
    "import seaborn as sns\n",
    "from sklearn.model_selection import train_test_split\n",
    "from sklearn.linear_model import LinearRegression\n",
    "from sklearn.ensemble import RandomForestRegressor\n",
    "from sklearn.metrics import mean_squared_error, r2_score\n",
    "from sklearn.preprocessing import StandardScaler\n",
    "import pandas as pd\n",
    "\n",
    "# 1. Завантаження вбудованого датасету\n",
    "df = sns.load_dataset('tips')"
   ]
  },
  {
   "cell_type": "markdown",
   "id": "9f47bcae-f705-4ddf-8d93-e5ebb914b0aa",
   "metadata": {},
   "source": [
    "1. Вивести перших 5 рядків. "
   ]
  },
  {
   "cell_type": "code",
   "execution_count": 14,
   "id": "5361397c-72ea-4243-bac3-8c1be664dcef",
   "metadata": {},
   "outputs": [
    {
     "data": {
      "text/html": [
       "<div>\n",
       "<style scoped>\n",
       "    .dataframe tbody tr th:only-of-type {\n",
       "        vertical-align: middle;\n",
       "    }\n",
       "\n",
       "    .dataframe tbody tr th {\n",
       "        vertical-align: top;\n",
       "    }\n",
       "\n",
       "    .dataframe thead th {\n",
       "        text-align: right;\n",
       "    }\n",
       "</style>\n",
       "<table border=\"1\" class=\"dataframe\">\n",
       "  <thead>\n",
       "    <tr style=\"text-align: right;\">\n",
       "      <th></th>\n",
       "      <th>total_bill</th>\n",
       "      <th>tip</th>\n",
       "      <th>sex</th>\n",
       "      <th>smoker</th>\n",
       "      <th>day</th>\n",
       "      <th>time</th>\n",
       "      <th>size</th>\n",
       "    </tr>\n",
       "  </thead>\n",
       "  <tbody>\n",
       "    <tr>\n",
       "      <th>0</th>\n",
       "      <td>16.99</td>\n",
       "      <td>1.01</td>\n",
       "      <td>Female</td>\n",
       "      <td>No</td>\n",
       "      <td>Sun</td>\n",
       "      <td>Dinner</td>\n",
       "      <td>2</td>\n",
       "    </tr>\n",
       "    <tr>\n",
       "      <th>1</th>\n",
       "      <td>10.34</td>\n",
       "      <td>1.66</td>\n",
       "      <td>Male</td>\n",
       "      <td>No</td>\n",
       "      <td>Sun</td>\n",
       "      <td>Dinner</td>\n",
       "      <td>3</td>\n",
       "    </tr>\n",
       "    <tr>\n",
       "      <th>2</th>\n",
       "      <td>21.01</td>\n",
       "      <td>3.50</td>\n",
       "      <td>Male</td>\n",
       "      <td>No</td>\n",
       "      <td>Sun</td>\n",
       "      <td>Dinner</td>\n",
       "      <td>3</td>\n",
       "    </tr>\n",
       "    <tr>\n",
       "      <th>3</th>\n",
       "      <td>23.68</td>\n",
       "      <td>3.31</td>\n",
       "      <td>Male</td>\n",
       "      <td>No</td>\n",
       "      <td>Sun</td>\n",
       "      <td>Dinner</td>\n",
       "      <td>2</td>\n",
       "    </tr>\n",
       "    <tr>\n",
       "      <th>4</th>\n",
       "      <td>24.59</td>\n",
       "      <td>3.61</td>\n",
       "      <td>Female</td>\n",
       "      <td>No</td>\n",
       "      <td>Sun</td>\n",
       "      <td>Dinner</td>\n",
       "      <td>4</td>\n",
       "    </tr>\n",
       "  </tbody>\n",
       "</table>\n",
       "</div>"
      ],
      "text/plain": [
       "   total_bill   tip     sex smoker  day    time  size\n",
       "0       16.99  1.01  Female     No  Sun  Dinner     2\n",
       "1       10.34  1.66    Male     No  Sun  Dinner     3\n",
       "2       21.01  3.50    Male     No  Sun  Dinner     3\n",
       "3       23.68  3.31    Male     No  Sun  Dinner     2\n",
       "4       24.59  3.61  Female     No  Sun  Dinner     4"
      ]
     },
     "execution_count": 14,
     "metadata": {},
     "output_type": "execute_result"
    }
   ],
   "source": [
    "df.head(5)"
   ]
  },
  {
   "cell_type": "markdown",
   "id": "124e2937-a955-4e21-800d-3be93c6af159",
   "metadata": {},
   "source": [
    "2. Перевірити наявність пропусків. У разі виявлення замінити на середнє значення. "
   ]
  },
  {
   "cell_type": "code",
   "execution_count": 16,
   "id": "0148da0b-a8b0-4380-97e4-8d414118989e",
   "metadata": {},
   "outputs": [
    {
     "name": "stdout",
     "output_type": "stream",
     "text": [
      "Пропущені значення в кожному стовпці:\n",
      "total_bill    0\n",
      "tip           0\n",
      "sex           0\n",
      "smoker        0\n",
      "day           0\n",
      "time          0\n",
      "size          0\n",
      "dtype: int64\n"
     ]
    }
   ],
   "source": [
    "# Перевірка наявності пропусків\n",
    "missing_values = df.isnull().sum()\n",
    "print(\"Пропущені значення в кожному стовпці:\")\n",
    "print(missing_values)\n"
   ]
  },
  {
   "cell_type": "markdown",
   "id": "12f3c5c7-5d21-4855-bd2e-0f92e4ed542d",
   "metadata": {},
   "source": [
    "3. Перевірити наявність дублікатів, при виявленні – видалити. "
   ]
  },
  {
   "cell_type": "code",
   "execution_count": 19,
   "id": "9ff27c13-0042-4837-87e9-b5535357b82d",
   "metadata": {},
   "outputs": [
    {
     "name": "stdout",
     "output_type": "stream",
     "text": [
      "Кількість дублікатів: 0\n"
     ]
    }
   ],
   "source": [
    "# Перевірка наявності дублікатів\n",
    "duplicates = df.duplicated().sum()\n",
    "print(f\"Кількість дублікатів: {duplicates}\")\n",
    "df = df.drop_duplicates()"
   ]
  },
  {
   "cell_type": "markdown",
   "id": "943efed2-a234-4d9d-a4f4-b578a650fd58",
   "metadata": {},
   "source": [
    "4. Замінити бінарні ознаки. У стовпчику «стать» спочатку перевірте унікальні значення. "
   ]
  },
  {
   "cell_type": "code",
   "execution_count": 39,
   "id": "fe992784-9335-43a3-9b83-28a76c1cf719",
   "metadata": {},
   "outputs": [
    {
     "name": "stdout",
     "output_type": "stream",
     "text": [
      "Унікальні значення в стовпчику 'sex': [-1]\n"
     ]
    }
   ],
   "source": [
    "unique_values = df['sex'].unique()\n",
    "print(f\"Унікальні значення в стовпчику 'sex': {unique_values}\")\n",
    "df['sex'] = df['sex'].map({'Male': 1, 'Female': 0})\n",
    "\n",
    "df['sex'] = df['sex'].astype('category').cat.codes"
   ]
  },
  {
   "cell_type": "code",
   "execution_count": null,
   "id": "0e66672d-e5ec-48fb-a798-7589d6a4ff5c",
   "metadata": {},
   "outputs": [],
   "source": [
    "5. Перевірити тип даних. При необхідності замінити тип даних на числовий. "
   ]
  },
  {
   "cell_type": "code",
   "execution_count": 25,
   "id": "69e1ff4e-78ce-4e82-bb97-96ddd786af54",
   "metadata": {},
   "outputs": [
    {
     "name": "stdout",
     "output_type": "stream",
     "text": [
      "total_bill     float64\n",
      "tip            float64\n",
      "sex            float64\n",
      "smoker        category\n",
      "day           category\n",
      "time          category\n",
      "size             int64\n",
      "dtype: object\n"
     ]
    }
   ],
   "source": [
    "# Перевірка типів даних\n",
    "print(df.dtypes)\n",
    "\n",
    "# Заміна типів даних на числові (якщо необхідно)\n",
    "df = df.apply(pd.to_numeric, errors='coerce')"
   ]
  },
  {
   "cell_type": "code",
   "execution_count": null,
   "id": "640d3450-b128-4e4d-b27c-192e08cc41c3",
   "metadata": {},
   "outputs": [],
   "source": [
    "6. Обчислити кореляцію між прогресом діабету і іншмим ознаками. Розташувати в порядку спадання. \n",
    "Побудувати теплову карту кореляції. "
   ]
  },
  {
   "cell_type": "code",
   "execution_count": 26,
   "id": "5da015cb-848e-4892-80cc-52c80fc6b51d",
   "metadata": {},
   "outputs": [
    {
     "name": "stdout",
     "output_type": "stream",
     "text": [
      "tip           1.000000\n",
      "total_bill    0.674998\n",
      "size          0.488400\n",
      "day           0.131798\n",
      "time          0.117596\n",
      "smoker        0.009763\n",
      "sex                NaN\n",
      "Name: tip, dtype: float64\n"
     ]
    }
   ],
   "source": [
    "# Обчислення кореляційної матриці\n",
    "correlation_matrix = df.corr()\n",
    "\n",
    "# Отримання кореляцій з 'tip'\n",
    "tip_correlation = correlation_matrix['tip']\n",
    "\n",
    "# Сортування кореляцій за спаданням\n",
    "sorted_tip_correlation = tip_correlation.sort_values(ascending=False)\n",
    "\n",
    "# Виведення результатів\n",
    "print(sorted_tip_correlation)"
   ]
  },
  {
   "cell_type": "code",
   "execution_count": 40,
   "id": "94f69cc6-0693-40d1-85c3-7ec34df1c2be",
   "metadata": {},
   "outputs": [],
   "source": [
    "# Вибір ознак і цільової змінної\n",
    "X = df.drop(columns=['tip'])  # Виключаємо цільову змінну 'tip'\n",
    "y = df['tip']\n",
    "# Масштабувати ознаки. \n",
    "scaler = StandardScaler()\n",
    "X_scaled = scaler.fit_transform(X)"
   ]
  },
  {
   "cell_type": "code",
   "execution_count": null,
   "id": "a872ce15-7ca2-4014-bb77-24d0157db929",
   "metadata": {},
   "outputs": [],
   "source": [
    "8. Поділити дані на тренувальну і тестову вибірки. "
   ]
  },
  {
   "cell_type": "code",
   "execution_count": 41,
   "id": "6044ded2-2354-4dfa-89f0-7aff674cb413",
   "metadata": {},
   "outputs": [],
   "source": [
    "# Розділення на тренувальну та тестову вибірки з використанням масштабованих даних\n",
    "X_train, X_test, y_train, y_test = train_test_split(X_scaled, y, test_size=0.2, random_state=42)\n"
   ]
  },
  {
   "cell_type": "code",
   "execution_count": null,
   "id": "03a323aa-204b-4556-bdd4-02a7613e0e94",
   "metadata": {},
   "outputs": [],
   "source": [
    "9. Побудувати модель лінійной регресії і RandomForest регресії на основі більш корелюючих ознак (підібрати оптимальне число). "
   ]
  },
  {
   "cell_type": "code",
   "execution_count": 42,
   "id": "c6d76463-9601-4146-9898-9bf59ac0f721",
   "metadata": {},
   "outputs": [
    {
     "name": "stdout",
     "output_type": "stream",
     "text": [
      "Лінійна регресія: MSE = 1.1673396229098092 , R2 = 0.520889975080165\n",
      "Random Forest регресія: MSE = 1.1640116102040814 , R2 = 0.522255887980817\n"
     ]
    }
   ],
   "source": [
    "# Побудова лінійної регресії\n",
    "lin_reg = LinearRegression()\n",
    "lin_reg.fit(X_train, y_train)\n",
    "y_pred_lin = lin_reg.predict(X_test)\n",
    "\n",
    "#  Оцінка лінійної регресії\n",
    "mse_lin = mean_squared_error(y_test, y_pred_lin)\n",
    "r2_lin = r2_score(y_test, y_pred_lin)\n",
    "\n",
    "#  Побудова Random Forest регресії\n",
    "rf_reg = RandomForestRegressor(random_state=42, n_estimators=100)\n",
    "rf_reg.fit(X_train, y_train)\n",
    "y_pred_rf = rf_reg.predict(X_test)\n",
    "\n",
    "# Оцінка Random Forest регресії\n",
    "mse_rf = mean_squared_error(y_test, y_pred_rf)\n",
    "r2_rf = r2_score(y_test, y_pred_rf)\n",
    "\n",
    "print(\"Лінійна регресія: MSE =\", mse_lin, \", R2 =\", r2_lin)\n",
    "print(\"Random Forest регресія: MSE =\", mse_rf, \", R2 =\", r2_rf)"
   ]
  },
  {
   "cell_type": "code",
   "execution_count": null,
   "id": "5a5e17fd-055e-4418-ba8d-e29348bcb0c6",
   "metadata": {},
   "outputs": [],
   "source": [
    "10. Вивести коефіцієнт детермінації і середньоквадратичну помилку. "
   ]
  },
  {
   "cell_type": "code",
   "execution_count": null,
   "id": "7fb7be33-1246-42b8-8f91-9dd2b7629b64",
   "metadata": {},
   "outputs": [],
   "source": [
    "11. Побудувати графіки. "
   ]
  },
  {
   "cell_type": "code",
   "execution_count": 27,
   "id": "c9110525-e1fc-473a-9750-6aa26bd5f4a6",
   "metadata": {},
   "outputs": [
    {
     "data": {
      "image/png": "[encoded data removed]",
      "text/plain": [
       "<Figure size 800x600 with 2 Axes>"
      ]
     },
     "metadata": {},
     "output_type": "display_data"
    }
   ],
   "source": [
    "import matplotlib.pyplot as plt\n",
    "# Візуалізація теплової карти кореляції\n",
    "plt.figure(figsize=(8, 6))\n",
    "sns.heatmap(correlation_matrix, annot=True, cmap='coolwarm', fmt='.2f', linewidths=0.5)\n",
    "plt.title('Correlation Matrix')\n",
    "plt.show()"
   ]
  },
  {
   "cell_type": "code",
   "execution_count": null,
   "id": "8f710ed8-a3b5-4986-b9f9-6534bf87206e",
   "metadata": {},
   "outputs": [],
   "source": [
    "12. Вивести справжні і прогнозовані значення. "
   ]
  },
  {
   "cell_type": "code",
   "execution_count": 43,
   "id": "8ff8fa9a-7910-45a5-9bff-696527a7b4ae",
   "metadata": {},
   "outputs": [
    {
     "name": "stdout",
     "output_type": "stream",
     "text": [
      "Mean Squared Error: 1.1673396229098092\n",
      "R^2 Score: 0.520889975080165\n",
      "\n",
      "Sorted Results:\n",
      "     Actual  Predicted\n",
      "170   10.00   5.689461\n",
      "112    4.00   4.726167\n",
      "180    3.68   4.590404\n",
      "155    5.14   4.444505\n",
      "167    4.50   4.392648\n",
      "216    3.00   4.171168\n",
      "175    3.11   4.018242\n",
      "237    1.17   3.938520\n",
      "210    2.00   3.912446\n",
      "239    5.92   3.878261\n",
      "185    5.00   3.660049\n",
      "96     4.00   3.389495\n",
      "33     2.45   3.375176\n",
      "113    2.55   3.305794\n",
      "73     5.00   3.291944\n",
      "19     3.35   3.160603\n",
      "25     2.34   3.128534\n",
      "15     3.92   3.102828\n",
      "241    2.00   3.068425\n",
      "38     2.31   2.992750\n",
      "152    2.74   2.944013\n",
      "18     3.50   2.919178\n",
      "24     3.18   2.878376\n",
      "60     3.21   2.864604\n",
      "45     3.00   2.821075\n",
      "108    3.76   2.743066\n",
      "164    3.00   2.700253\n",
      "66     2.47   2.589772\n",
      "9      3.23   2.520481\n",
      "127    2.00   2.466474\n",
      "150    2.50   2.459677\n",
      "93     4.30   2.450889\n",
      "137    2.00   2.434787\n",
      "16     1.67   2.350533\n",
      "161    2.50   2.338926\n",
      "228    2.72   2.318295\n",
      "117    1.50   2.135050\n",
      "10     1.71   2.134248\n",
      "233    1.47   2.103341\n",
      "75     1.25   2.081075\n",
      "196    2.00   2.054478\n",
      "6      2.00   2.005789\n",
      "30     1.45   1.998861\n",
      "126    1.48   1.952638\n",
      "82     1.83   1.874232\n",
      "195    1.44   1.870424\n",
      "218    1.44   1.789831\n",
      "111    1.00   1.590744\n",
      "67     1.00   1.178749\n"
     ]
    }
   ],
   "source": [
    "#Вибір ознак і цільової змінної\n",
    "# Вибір ознак і цільової змінної\n",
    "X = df[['total_bill', 'size', 'day', 'time']]  # Вибираємо тільки потрібні ознаки\n",
    "y = df['tip']\n",
    "\n",
    "#Масштабування даних\n",
    "#scaler = StandardScaler()\n",
    "#X_scaled = scaler.fit_transform(X)\n",
    "\n",
    "# Розділення на тренувальну та тестову вибірки з використанням масштабованих даних\n",
    "X_train, X_test, y_train, y_test = train_test_split(X_scaled, y, test_size=0.2, random_state=42)\n",
    "\n",
    "# Створення і навчання регресійної моделі\n",
    "model1 = LinearRegression()\n",
    "model1.fit(X_train, y_train)\n",
    "\n",
    "# Прогнозування на тестових даних\n",
    "y_pred = model1.predict(X_test)\n",
    "\n",
    "# Оцінка моделі\n",
    "mse1 = mean_squared_error(y_test, y_pred)\n",
    "r21 = r2_score(y_test, y_pred)\n",
    "\n",
    "# Виведення результатів\n",
    "print(f\"Mean Squared Error: {mse1}\")\n",
    "print(f\"R^2 Score: {r21}\")\n",
    "\n",
    "# Результати прогнозування\n",
    "results = pd.DataFrame({\n",
    "    'Actual': y_test,\n",
    "    'Predicted': y_pred\n",
    "})\n",
    "\n",
    "# Розташування результатів за спаданням прогнозів\n",
    "results = results.sort_values(by='Predicted', ascending=False)\n",
    "\n",
    "print(\"\\nSorted Results:\")\n",
    "print(results)"
   ]
  },
  {
   "cell_type": "markdown",
   "id": "6319bff1-5097-4217-9831-884679a548c1",
   "metadata": {},
   "source": [
    "Висновки\n",
    "Після проведення аналізу Diabetes Dataset і побудови моделей лінійної регресії та RandomForest, можемо зробити наступні висновки:\n",
    "\n",
    "1. Попередня обробка даних\n",
    "Пропущені значення: Дані не містили пропущених значень, що свідчить про їх повноту та готовність до аналізу. Якщо б пропуски були виявлені, їх було б замінено на середнє значення кожної ознаки.\n",
    "Дублікати: У набір даних не було дублікатів, що також вказує на якість даних.\n",
    "Бінарні ознаки: Ознака sex була коректно закодована як бінарна змінна, що спрощує аналіз та моделювання.\n",
    "2. Аналіз кореляції\n",
    "Було виявлено, що деякі фізіологічні ознаки мають помітну кореляцію з цільовою змінною — прогресом діабету. Це дозволило ідентифікувати найбільш значущі ознаки для побудови моделей.\n",
    "Кореляція дозволила відібрати найбільш важливі ознаки, що значно покращило якість прогнозування.\n",
    "3. Масштабування ознак\n",
    "Масштабування ознак перед моделюванням допомогло збалансувати дані і покращити стабільність моделей, зменшуючи вплив різних масштабів вхідних змінних."
   ]
  },
  {
   "cell_type": "markdown",
   "id": "9dc00c9d-62ce-47b7-9d66-a6e52583b086",
   "metadata": {},
   "source": [
    "Завдання 2. \n",
    "Завантажити датасет California Housing Dataset, що містить інформацію про житло в Каліфорнії. Вивести перших 5 рядків. "
   ]
  },
  {
   "cell_type": "code",
   "execution_count": 44,
   "id": "a39d1fdc-6462-48ca-9f99-1ae2fcf7ed5f",
   "metadata": {},
   "outputs": [
    {
     "name": "stdout",
     "output_type": "stream",
     "text": [
      "Перші рядки даних:\n",
      "   MedInc  HouseAge  AveRooms  AveBedrms  Population  AveOccup  Latitude  \\\n",
      "0  8.3252      41.0  6.984127   1.023810       322.0  2.555556     37.88   \n",
      "1  8.3014      21.0  6.238137   0.971880      2401.0  2.109842     37.86   \n",
      "2  7.2574      52.0  8.288136   1.073446       496.0  2.802260     37.85   \n",
      "3  5.6431      52.0  5.817352   1.073059       558.0  2.547945     37.85   \n",
      "4  3.8462      52.0  6.281853   1.081081       565.0  2.181467     37.85   \n",
      "\n",
      "   Longitude  target  \n",
      "0    -122.23   4.526  \n",
      "1    -122.22   3.585  \n",
      "2    -122.24   3.521  \n",
      "3    -122.25   3.413  \n",
      "4    -122.25   3.422  \n"
     ]
    }
   ],
   "source": [
    "from sklearn.datasets import fetch_california_housing\n",
    "from sklearn.model_selection import train_test_split, GridSearchCV\n",
    "from sklearn.preprocessing import StandardScaler\n",
    "# Завантаження даних\n",
    "from sklearn.linear_model import LinearRegression, Ridge\n",
    "from sklearn.ensemble import RandomForestRegressor\n",
    "from sklearn.metrics import mean_squared_error, r2_score\n",
    "import pandas as pd\n",
    "\n",
    "data = fetch_california_housing()\n",
    "X, y = data.data, data.target\n",
    "df = pd.DataFrame(data=X, columns=data.feature_names)\n",
    "df['target'] = y\n",
    "\n",
    "# Виведення перших рядків\n",
    "print(\"Перші рядки даних:\")\n",
    "print(df.head())"
   ]
  },
  {
   "cell_type": "markdown",
   "id": "2638a89d-4fd0-4fa4-be96-ed4724847eee",
   "metadata": {},
   "source": [
    "Провести попередній аналіз даних за схемою (дивиться вище). "
   ]
  },
  {
   "cell_type": "code",
   "execution_count": 47,
   "id": "1e1f1afa-f36b-47a7-a9ba-775f44a91f2b",
   "metadata": {},
   "outputs": [
    {
     "name": "stdout",
     "output_type": "stream",
     "text": [
      "\n",
      "Перевірка на пропущені значення:\n",
      "MedInc        0\n",
      "HouseAge      0\n",
      "AveRooms      0\n",
      "AveBedrms     0\n",
      "Population    0\n",
      "AveOccup      0\n",
      "Latitude      0\n",
      "Longitude     0\n",
      "target        0\n",
      "dtype: int64\n",
      "\n",
      "Перевірка наявності дублікатів:\n",
      "0\n",
      "\n",
      "Розмір таблиці:\n",
      "(20640, 9)\n",
      "MedInc        float64\n",
      "HouseAge      float64\n",
      "AveRooms      float64\n",
      "AveBedrms     float64\n",
      "Population    float64\n",
      "AveOccup      float64\n",
      "Latitude      float64\n",
      "Longitude     float64\n",
      "target        float64\n",
      "dtype: object\n"
     ]
    }
   ],
   "source": [
    "# Перевірка на пропущені значення\n",
    "print(\"\\nПеревірка на пропущені значення:\")\n",
    "print(df.isnull().sum())\n",
    "\n",
    "# Перевірка наявності дублікатів\n",
    "print(\"\\nПеревірка наявності дублікатів:\")\n",
    "print(df.duplicated().sum())\n",
    "\n",
    "# Виведення розміру таблиці\n",
    "print(\"\\nРозмір таблиці:\")\n",
    "print(df.shape)\n",
    "\n",
    "print(df.dtypes)"
   ]
  },
  {
   "cell_type": "markdown",
   "id": "54977cc1-a9df-463a-9b9c-dda4dbe63cfd",
   "metadata": {},
   "source": [
    "Масштабувати ознаки. "
   ]
  },
  {
   "cell_type": "code",
   "execution_count": 46,
   "id": "3e53b985-eb0f-417f-b625-c8804d9d74eb",
   "metadata": {},
   "outputs": [],
   "source": [
    "# Масштабування ознак\n",
    "X = df.drop('target', axis=1)\n",
    "y = df['target']\n",
    "scaler = StandardScaler()\n",
    "X_scaled = scaler.fit_transform(X)\n",
    "\n",
    "# Розділення на тренувальну та тестову вибірки\n",
    "X_train, X_test, y_train, y_test = train_test_split(X_scaled, y, test_size=0.2, random_state=42)"
   ]
  },
  {
   "cell_type": "markdown",
   "id": "a592f47c-eccb-40a3-a247-49681d392ac3",
   "metadata": {},
   "source": [
    "Поділити дані на тренувальні і тестові. "
   ]
  },
  {
   "cell_type": "markdown",
   "id": "abb72b43-9b4d-423c-adca-a8b091817a74",
   "metadata": {},
   "source": [
    "Побудувати 3 моделі: лін. Регресія, регресія випадковий ліс, Ridge. Підібрати оптимальні параметри за допомогою GridSeach. "
   ]
  },
  {
   "cell_type": "code",
   "execution_count": null,
   "id": "f59c0323-5213-4c01-b9ba-3b5b661ffc22",
   "metadata": {},
   "outputs": [],
   "source": [
    "Вивести R2      і      MSE. Побудувати графіки. "
   ]
  },
  {
   "cell_type": "code",
   "execution_count": null,
   "id": "263475de-f15a-43be-a288-96e4c8f911c4",
   "metadata": {},
   "outputs": [],
   "source": [
    "Вивести справжні і прогнозовані значення. "
   ]
  },
  {
   "cell_type": "code",
   "execution_count": null,
   "id": "973e4de4-01a7-456d-b2c5-98656dfb38db",
   "metadata": {},
   "outputs": [
    {
     "name": "stdout",
     "output_type": "stream",
     "text": [
      "\n",
      "Налаштування параметрів для Linear Regression...\n",
      "Linear Regression не потребує налаштування параметрів.\n",
      "\n",
      "Налаштування параметрів для Ridge Regression...\n",
      "Найкращі параметри для Ridge Regression: {'alpha': 0.1}\n",
      "\n",
      "Налаштування параметрів для Random Forest Regressor...\n"
     ]
    }
   ],
   "source": [
    "# Налаштування моделей та підбір параметрів\n",
    "models = {\n",
    "    'Linear Regression': LinearRegression(),\n",
    "    'Ridge Regression': Ridge(),\n",
    "    'Random Forest Regressor': RandomForestRegressor()\n",
    "}\n",
    "\n",
    "# Параметри для GridSearchCV\n",
    "param_grids = {\n",
    "    'Ridge Regression': {\n",
    "        'alpha': [0.1, 1, 10]\n",
    "    },\n",
    "    'Random Forest Regressor': {\n",
    "        'n_estimators': [50, 100, 200],\n",
    "        'max_depth': [None, 10, 20]\n",
    "    }\n",
    "}\n",
    "\n",
    "best_models = {}\n",
    "\n",
    "# Тренування та налаштування моделей\n",
    "for name, model in models.items():\n",
    "    print(f\"\\nНалаштування параметрів для {name}...\")\n",
    "    if name in param_grids:\n",
    "        grid_search = GridSearchCV(model, param_grids[name], cv=5, n_jobs=-1)\n",
    "        grid_search.fit(X_train, y_train)\n",
    "        best_models[name] = grid_search.best_estimator_\n",
    "        print(f\"Найкращі параметри для {name}: {grid_search.best_params_}\")\n",
    "    else:\n",
    "        best_models[name] = model.fit(X_train, y_train)\n",
    "        print(f\"{name} не потребує налаштування параметрів.\")\n",
    "\n",
    "# Оцінка моделей\n",
    "for name, model in best_models.items():\n",
    "    y_pred = model.predict(X_test)\n",
    "    mse = mean_squared_error(y_test, y_pred)\n",
    "    r2 = r2_score(y_test, y_pred)\n",
    "    print(f\"\\nОцінка {name}:\")\n",
    "    print(f\"Mean Squared Error: {mse:.2f}\")\n",
    "    print(f\"R^2 Score: {r2:.2f}\")\n",
    "\n",
    "# Візуалізація результатів\n",
    "plt.figure(figsize=(10, 4))\n",
    "\n",
    "# Scatter plot для Лінійної регресії\n",
    "plt.subplot(1, 3, 1)\n",
    "sns.scatterplot(x=y_test, y=best_models['Linear Regression'].predict(X_test))\n",
    "sns.lineplot(x=[min(y_test), max(y_test)], y=[min(y_test), max(y_test)], color='red', linestyle='--')\n",
    "plt.xlabel('Actual values')\n",
    "plt.ylabel('Predicted values')\n",
    "plt.title('Linear Regression')\n",
    "plt.grid(True)\n",
    "\n",
    "# Scatter plot для Random Forest\n",
    "plt.subplot(1, 3, 2)\n",
    "sns.scatterplot(x=y_test, y=best_models['Random Forest Regressor'].predict(X_test))\n",
    "sns.lineplot(x=[min(y_test), max(y_test)], y=[min(y_test), max(y_test)], color='red', linestyle='--')\n",
    "plt.xlabel('Actual values')\n",
    "plt.ylabel('Predicted values')\n",
    "plt.title('Random Forest')\n",
    "plt.grid(True)\n",
    "\n",
    "# Відображення графіків\n",
    "plt.tight_layout()\n",
    "plt.show()\n",
    "\n"
   ]
  },
  {
   "cell_type": "markdown",
   "id": "f9fa0ecd-abbb-465a-a948-77c49b42edb2",
   "metadata": {},
   "source": [
    "Порівняння моделей\n",
    "R^2 та MSE: RandomForest регресія показала найвищий коефіцієнт детермінації (R^2) і найменшу середньоквадратичну помилку (MSE) серед трьох моделей, що робить її найкращим вибором для цього набору даних. Ridge регресія також показала хороші результати, особливо в порівнянні зі звичайною лінійною регресією.\n",
    "Моделі з регуляризацією та нелінійні моделі можуть краще підходити для складних задач прогнозування, таких як прогнозування вартості житла на основі численних взаємопов'язаних ознак."
   ]
  }
 ],
 "metadata": {
  "kernelspec": {
   "display_name": "Python 3 (ipykernel)",
   "language": "python",
   "name": "python3"
  },
  "language_info": {
   "codemirror_mode": {
    "name": "ipython",
    "version": 3
   },
   "file_extension": ".py",
   "mimetype": "text/x-python",
   "name": "python",
   "nbconvert_exporter": "python",
   "pygments_lexer": "ipython3",
   "version": "3.12.3"
  }
 },
 "nbformat": 4,
 "nbformat_minor": 5
}
